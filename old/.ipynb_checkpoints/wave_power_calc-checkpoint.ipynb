{
 "cells": [
  {
   "cell_type": "code",
   "execution_count": 3,
   "metadata": {},
   "outputs": [],
   "source": [
    "#For reading *_SPT.txt files, reareange them and same as NC files in same name\n",
    "import pandas as pd\n",
    "import numpy as np\n",
    "import xarray as xr\n",
    "from datetime import datetime as dt\n",
    "import glob\n",
    "import os\n",
    "path = \"*.txt\"     #Give path of SPT files here\n",
    "files=glob.glob(path)\n",
    "for spt_file in files:\n",
    "    result=[]\n",
    "    time=[]\n",
    "    file_name=spt_file[:-4] #Extracting file name without extension (*.txt)\n",
    "    with open(spt_file) as file:\n",
    "        for line in file:\n",
    "            dat=line.rstrip()\n",
    "            res = dat.split()\n",
    "            res=[ x for x in res if \"m\" not in x] # removing Charcter \"Time Stamp\" from lines\n",
    "            if len(res)==10:  # Detecting line conatains date\n",
    "                date=res[0]   #Storing date on other variable\n",
    "                res=res[1:]\n",
    "                time.append(date)\n",
    "                result.append(res)\n",
    "            else:\n",
    "                result.append(res)\n",
    "    result=pd.DataFrame(result,columns=[\"Frequency\",\"S(f)\",\"Dir(f)\",\"Spr(f)\",\n",
    "                                        \"Skew(f)\",\"Kurt(f)\",\"K\",\"Lat\",\"Lon\"]) #creating dataframe using arranged data for one file \n",
    "    time = np.array(time, dtype='datetime64') #converting time axis to datetime format for creating coordinates in NC file \n",
    "    Frequency=result[\"Frequency\"].iloc[0:64] # Extracting frequency from data \n",
    "    Frequency= np.array(Frequency, dtype='float')\n",
    "    Spect=np.array(result[\"S(f)\"],dtype=\"float\").reshape(len(time),64) \n",
    "    Dir=np.array(result[\"Dir(f)\"],dtype=\"float\").reshape(len(time),64)\n",
    "    Spr=np.array(result[\"Spr(f)\"],dtype=\"float\").reshape(len(time),64)\n",
    "    Skew=np.array(result[\"Skew(f)\"],dtype=\"float\").reshape(len(time),64)\n",
    "    Kurt=np.array(result[\"Kurt(f)\"],dtype=\"float\").reshape(len(time),64)\n",
    "    K=np.array(result[\"K\"],dtype=\"float\").reshape(len(time),64)\n",
    "    Lat=np.array(result[\"Lat\"],dtype=\"float\").reshape(len(time),64)\n",
    "    Lon=np.array(result[\"Lon\"],dtype=\"float\").reshape(len(time),64)\n",
    "    ds = xr.Dataset(\n",
    "        coords=dict(\n",
    "                time=([\"time\"], time),\n",
    "                Frequency=([\"f\"], Frequency),\n",
    "            ),\n",
    "        data_vars=dict(\n",
    "                S=([\"time\",\"f\"], Spect),\n",
    "                Dir=([\"time\",\"f\"], Dir),\n",
    "                Spr=([\"time\",\"f\"], Spr),\n",
    "                Kurt=([\"time\",\"f\"], Kurt),\n",
    "                Skew=([\"time\",\"f\"], Skew),\n",
    "                K=([\"time\",\"f\"], K),\n",
    "            )\n",
    "        )\n",
    "    dtnow=dt.now().strftime(\"%Y-%m-%dT%H:%M:%SZ\")  \n",
    "    ##Setting attributes\n",
    "    ds.attrs[\"date_created\"]=dtnow   #storing created dates in NC file\n",
    "    ds.time.attrs[\"Units\"] = \"Hour\" \n",
    "    ds.Frequency.attrs[\"Units\"]=\"Hz\"\n",
    "    ds.S.attrs[\"Units\"] = \"Hz/m2\"\n",
    "    ds.S.attrs[\"Long_Name\"] = \"Spectral_Energy\"\n",
    "    ds.Spr.attrs[\"Long_Name\"]=\"Directional spread\"\n",
    "    ds.Spr.attrs[\"Units\"]=\"Degree\"\n",
    "    ds.Kurt.attrs[\"Long_Name\"]=\"Kurtosis of the directional distribution\"\n",
    "    ds.Skew.attrs[\"Long_Name\"]=\"Skewness of the directional distribution\"\n",
    "    ds.Dir.attrs[\"Long_Name\"]=\"Wave direction\"\n",
    "    ds.Dir.attrs[\"units\"] = \"degree_north\"\n",
    "    ds.to_netcdf(\"{}.nc\".format(file_name)) "
   ]
  },
  {
   "cell_type": "code",
   "execution_count": 15,
   "metadata": {},
   "outputs": [
    {
     "name": "stdout",
     "output_type": "stream",
     "text": [
      "/home/anoop/WORK_swell_energy_03062022/wrb_RawData_Ratnagiri_Pondicherry_Vizag/SDT\n"
     ]
    },
    {
     "data": {
      "text/plain": [
       "['Vizag',\n",
       " 'wave_power_calc.ipynb',\n",
       " 'Ratnagiri',\n",
       " '.ipynb_checkpoints',\n",
       " 'Pondicherry',\n",
       " 'ReadSDT.m']"
      ]
     },
     "execution_count": 15,
     "metadata": {},
     "output_type": "execute_result"
    }
   ],
   "source": [
    "path=os.getcwd()\n",
    "print(path)\n",
    "os.listdir()"
   ]
  },
  {
   "cell_type": "code",
   "execution_count": 93,
   "metadata": {},
   "outputs": [],
   "source": [
    "#Calculating wave energy and wave parameters from NC files corresponding *_SPT.txt data\n",
    "import pandas as pd\n",
    "import numpy as np\n",
    "import xarray as xr\n",
    "from datetime import datetime as dt\n",
    "import glob\n",
    "import os\n",
    "path = \"*.nc\"\n",
    "files=glob.glob(path)\n",
    "start_period=1 # If full range need to calculate give value 1 here\n",
    "end_period=40  # If full range need to calculate give value 40 here\n",
    "for file in files:\n",
    "    times=xr.open_dataset(file).time\n",
    "    S=xr.open_dataset(file).S\n",
    "    frq=xr.open_dataset(file).Frequency\n",
    "    frq=pd.DataFrame(frq)\n",
    "    df = frq.diff()\n",
    "    df=df.squeeze() #Converting dataframe to pandas series \n",
    "    df=df[1:] \n",
    "    f=frq.rolling(window=2).mean() #Averaging one value with next one\n",
    "    f=f[1:]\n",
    "    f=f.squeeze()\n",
    "    f_init=1/end_period\n",
    "    f_final=1/start_period \n",
    "    f_init_ind =abs(f - f_init).idxmin() #Find index corresponding to give frequencies\n",
    "    f_final_ind=abs(f - f_final).idxmin()\n",
    "    final_result=[]\n",
    "    for t in times:\n",
    "        spec=pd.DataFrame(S.sel(time=t)) #Selecting spectral moment from data\n",
    "        spec=spec.squeeze()\n",
    "        s=spec.rolling(window=2).mean()\n",
    "        s=s[1:] \n",
    "        ss0=df*s\n",
    "        ss1=f*s*df\n",
    "        ss2=f**2*s*df\n",
    "        ss_1=f**-1*s*df\n",
    "        m0=np.sum(ss0.loc[f_init_ind:f_final_ind]) #Calculating zeroth moment\n",
    "        m1=np.sum(ss1.loc[f_init_ind:f_final_ind]) #First moment\n",
    "        m2=np.sum(ss2.loc[f_init_ind:f_final_ind])\n",
    "        m_1=np.sum(ss_1.loc[f_init_ind:f_final_ind]) \n",
    "        Hs=4*np.sqrt(m0)\n",
    "        Tz=np.sqrt(m0/m2);\n",
    "        Tm=m0/m1;\n",
    "        Te=m_1/m0;\n",
    "        WP=((1025*(9.8)**2)/(64*np.pi))*Te*Hs**2; \n",
    "        tim=str(t)\n",
    "        result=[tim[36:55],Hs.round(2),Tz.round(2),Tm.round(2),Te.round(2),WP.round(2)]\n",
    "        final_result.append(result)   \n",
    "    final_result=pd.DataFrame(final_result,columns = [\"Time\",\"Hs\",\"Tz\",\"Tm\",\"Te\",\"WP\"])\n",
    "    final_result.to_csv(\"Wave_Ene_{}.csv\".format(file[:-3]),index=False)"
   ]
  },
  {
   "cell_type": "code",
   "execution_count": 96,
   "metadata": {},
   "outputs": [
    {
     "name": "stdout",
     "output_type": "stream",
     "text": [
      "Pondicherry\n",
      "                    Time    Hs     Tz     Tm     Te       WP\n",
      "0    2009-09-02 02:30:00  0.74  19.97  21.45  23.12  6254.89\n",
      "1    2009-09-02 03:00:00  0.79   5.94   6.72   8.55  2608.14\n",
      "2    2009-09-02 03:30:00  0.75   5.25   6.10   7.72  2118.33\n",
      "3    2009-09-02 04:00:00  0.77   5.19   6.06   7.64  2237.95\n",
      "4    2009-09-02 04:30:00  0.70   4.92   5.81   7.62  1847.35\n",
      "...                  ...   ...    ...    ...    ...      ...\n",
      "5799 2009-12-31 22:00:00  0.56   3.82   4.11   4.81   732.53\n",
      "5800 2009-12-31 22:30:00  0.55   3.87   4.17   4.90   715.59\n",
      "5801 2009-12-31 23:00:00  0.56   3.99   4.30   5.02   769.08\n",
      "5802 2009-12-31 23:30:00  0.55   3.91   4.23   4.96   741.42\n",
      "5803 2010-01-01 00:00:00  0.55   3.95   4.25   4.95   731.69\n",
      "\n",
      "[5804 rows x 6 columns]\n"
     ]
    },
    {
     "data": {
      "text/plain": [
       "[<matplotlib.lines.Line2D at 0x7f3bf1a0ca50>]"
      ]
     },
     "execution_count": 96,
     "metadata": {},
     "output_type": "execute_result"
    },
    {
     "data": {
      "image/png": "[encoded data removed]",
      "text/plain": [
       "<Figure size 432x288 with 1 Axes>"
      ]
     },
     "metadata": {
      "needs_background": "light"
     },
     "output_type": "display_data"
    }
   ],
   "source": [
    "import pandas as pd\n",
    "import numpy as np\n",
    "import xarray as xr\n",
    "from datetime import datetime as dt\n",
    "import glob\n",
    "import os\n",
    "path = \"Wave_Ene_*.csv\"\n",
    "files=glob.glob(path)\n",
    "year=files[1][-12:-8] #Extracting year from file name\n",
    "station=files[1][9:-24] #Extracting station name from file name\n",
    "dat=pd.concat((pd.read_csv(file) for file in files), ignore_index=True) #Merging all files \n",
    "dat.drop_duplicates(inplace=True, ignore_index=True) #Deleting duplicate values\n",
    "dat[\"Time\"] = pd.to_datetime(dat[\"Time\"]) \n",
    "dat=dat.sort_values(by=\"Time\")\n",
    "dat[\"Time\"] = dat[\"Time\"].dt.round(\"30 min\") #rounding data to 00 00:30 time interval \n",
    "dat.Time = pd.to_datetime(dat.Time)\n",
    "dat = dat.set_index('Time').asfreq('30 min',fill_value=np.nan).reset_index()\n",
    "dat.to_csv(\"Wave_Energy_{}_{}.csv\".format(station,year),index=False)"
   ]
  }
 ],
 "metadata": {
  "kernelspec": {
   "display_name": "Python 3",
   "language": "python",
   "name": "python3"
  },
  "language_info": {
   "codemirror_mode": {
    "name": "ipython",
    "version": 3
   },
   "file_extension": ".py",
   "mimetype": "text/x-python",
   "name": "python",
   "nbconvert_exporter": "python",
   "pygments_lexer": "ipython3",
   "version": "3.7.6"
  }
 },
 "nbformat": 4,
 "nbformat_minor": 4
}
