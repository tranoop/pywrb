{
 "cells": [
  {
   "cell_type": "code",
   "execution_count": 1,
   "id": "8e94f225-4149-4397-b0d2-536c6f470095",
   "metadata": {},
   "outputs": [
    {
     "ename": "KeyboardInterrupt",
     "evalue": "",
     "output_type": "error",
     "traceback": [
      "\u001b[0;31m---------------------------------------------------------------------------\u001b[0m",
      "\u001b[0;31mKeyboardInterrupt\u001b[0m                         Traceback (most recent call last)",
      "Cell \u001b[0;32mIn[1], line 8\u001b[0m\n\u001b[1;32m      6\u001b[0m files\u001b[38;5;241m=\u001b[39mglob\u001b[38;5;241m.\u001b[39mglob(\u001b[38;5;124m\"\u001b[39m\u001b[38;5;124m*.SDT\u001b[39m\u001b[38;5;124m\"\u001b[39m)\n\u001b[1;32m      7\u001b[0m \u001b[38;5;28;01mfor\u001b[39;00m file \u001b[38;5;129;01min\u001b[39;00m files:\n\u001b[0;32m----> 8\u001b[0m     \u001b[43mprocess_SDT_file\u001b[49m\u001b[43m(\u001b[49m\u001b[43mfile\u001b[49m\u001b[43m)\u001b[49m\n\u001b[1;32m      9\u001b[0m     spt \u001b[38;5;241m=\u001b[39m file\u001b[38;5;241m.\u001b[39mreplace(\u001b[38;5;124m'\u001b[39m\u001b[38;5;124m.SDT\u001b[39m\u001b[38;5;124m'\u001b[39m, \u001b[38;5;124m'\u001b[39m\u001b[38;5;124m_SPT.txt\u001b[39m\u001b[38;5;124m'\u001b[39m)\n\u001b[1;32m     10\u001b[0m     spt_files\u001b[38;5;241m=\u001b[39mpd\u001b[38;5;241m.\u001b[39mread_csv(spt,header\u001b[38;5;241m=\u001b[39m\u001b[38;5;28;01mNone\u001b[39;00m)\n",
      "File \u001b[0;32m/mnt/e/OneDrive/WORK/Projects/WRB_Dataprocessing/test/SDT_read/process_SDT_file.py:17\u001b[0m, in \u001b[0;36mprocess_SDT_file\u001b[0;34m(s_file)\u001b[0m\n\u001b[1;32m     15\u001b[0m \u001b[38;5;28;01mwith\u001b[39;00m \u001b[38;5;28mopen\u001b[39m(s_file, \u001b[38;5;124m'\u001b[39m\u001b[38;5;124mrb\u001b[39m\u001b[38;5;124m'\u001b[39m) \u001b[38;5;28;01mas\u001b[39;00m fid, \u001b[38;5;28mopen\u001b[39m(s_out, \u001b[38;5;124m'\u001b[39m\u001b[38;5;124mw\u001b[39m\u001b[38;5;124m'\u001b[39m) \u001b[38;5;28;01mas\u001b[39;00m fod, \u001b[38;5;28mopen\u001b[39m(s_out4, \u001b[38;5;124m'\u001b[39m\u001b[38;5;124mw\u001b[39m\u001b[38;5;124m'\u001b[39m) \u001b[38;5;28;01mas\u001b[39;00m fod4, \u001b[38;5;28mopen\u001b[39m(s_out5, \u001b[38;5;124m'\u001b[39m\u001b[38;5;124mw\u001b[39m\u001b[38;5;124m'\u001b[39m) \u001b[38;5;28;01mas\u001b[39;00m fid_spt:\n\u001b[1;32m     16\u001b[0m     \u001b[38;5;28;01mwhile\u001b[39;00m \u001b[38;5;28;01mTrue\u001b[39;00m:\n\u001b[0;32m---> 17\u001b[0m         hdr, tms \u001b[38;5;241m=\u001b[39m \u001b[43mread_header\u001b[49m\u001b[43m(\u001b[49m\u001b[43mfid\u001b[49m\u001b[43m)\u001b[49m\n\u001b[1;32m     18\u001b[0m         nb \u001b[38;5;241m+\u001b[39m\u001b[38;5;241m=\u001b[39m \u001b[38;5;241m5\u001b[39m\n\u001b[1;32m     19\u001b[0m         \u001b[38;5;28;01mif\u001b[39;00m tms\u001b[38;5;241m.\u001b[39msize \u001b[38;5;241m==\u001b[39m \u001b[38;5;241m0\u001b[39m:\n",
      "File \u001b[0;32m/mnt/e/OneDrive/WORK/Projects/WRB_Dataprocessing/test/SDT_read/process_SDT_file.py:53\u001b[0m, in \u001b[0;36mread_header\u001b[0;34m(fid)\u001b[0m\n\u001b[1;32m     51\u001b[0m \u001b[38;5;28;01mdef\u001b[39;00m \u001b[38;5;21mread_header\u001b[39m(fid):\n\u001b[1;32m     52\u001b[0m \u001b[38;5;250m    \u001b[39m\u001b[38;5;124;03m\"\"\"Read header and timestamp from the file.\"\"\"\u001b[39;00m\n\u001b[0;32m---> 53\u001b[0m     hdr \u001b[38;5;241m=\u001b[39m \u001b[43mnp\u001b[49m\u001b[38;5;241;43m.\u001b[39;49m\u001b[43mfromfile\u001b[49m\u001b[43m(\u001b[49m\u001b[43mfid\u001b[49m\u001b[43m,\u001b[49m\u001b[43m \u001b[49m\u001b[43mdtype\u001b[49m\u001b[38;5;241;43m=\u001b[39;49m\u001b[43mnp\u001b[49m\u001b[38;5;241;43m.\u001b[39;49m\u001b[43muint8\u001b[49m\u001b[43m,\u001b[49m\u001b[43m \u001b[49m\u001b[43mcount\u001b[49m\u001b[38;5;241;43m=\u001b[39;49m\u001b[38;5;241;43m5\u001b[39;49m\u001b[43m)\u001b[49m\n\u001b[1;32m     54\u001b[0m     tms \u001b[38;5;241m=\u001b[39m np\u001b[38;5;241m.\u001b[39mfromfile(fid, dtype\u001b[38;5;241m=\u001b[39mnp\u001b[38;5;241m.\u001b[39muint8, count\u001b[38;5;241m=\u001b[39m\u001b[38;5;241m6\u001b[39m)\n\u001b[1;32m     55\u001b[0m     \u001b[38;5;28;01mreturn\u001b[39;00m hdr, tms\n",
      "\u001b[0;31mKeyboardInterrupt\u001b[0m: "
     ]
    }
   ],
   "source": [
    "import glob\n",
    "import pandas as pd\n",
    "from process_SDT_file import *\n",
    "import numpy as np\n",
    "import xarray as xr\n",
    "files=glob.glob(\"*.SDT\")\n",
    "for file in files:\n",
    "    process_SDT_file(file)\n",
    "    spt = file.replace('.SDT', '_SPT.txt')\n",
    "    spt_files=pd.read_csv(spt,header=None)\n",
    "\n",
    "    # Extract time stamps using regex pattern\n",
    "    pattern = r'Time Stamp= \\d{4}-\\d{2}-\\d{2} \\d{2}:\\d{2}:\\d{2}'\n",
    "    matching_indices = spt_files[spt_files[0].str.contains(pattern, na=False)].index\n",
    "    date = spt_files.iloc[matching_indices]\n",
    "    date = date[0].str.extract(r'(\\d{4}-\\d{2}-\\d{2} \\d{2}:\\d{2}:\\d{2})')\n",
    "    date.reset_index(inplace=True)\n",
    "\n",
    "    # Add the last boundary index to cover final spectrum\n",
    "    matching_indices = matching_indices.append(pd.Index([matching_indices[-1] + 65]))\n",
    "\n",
    "    # Separate each spectrum into individual data blocks\n",
    "    spect = [spt_files.iloc[matching_indices[i] + 1:matching_indices[i + 1]].values.tolist() \n",
    "             for i in range(0, len(matching_indices) - 1)]\n",
    "\n",
    "    # Initialize list for xarray datasets\n",
    "    datasets = []\n",
    "\n",
    "    # Process each spectral block and create a dataset with metadata\n",
    "    for i in range(len(spect)):\n",
    "        data_values = pd.DataFrame(spect[i])\n",
    "        data_values = data_values[0].str.split(\"\\t\", expand=True)\n",
    "        data_values.columns = [\"Frequency\", \"SmaxXpsd\", \"dir_angle\", \"spr\", \"skw\",\n",
    "                               \"kurt\", \"m2\", \"n2\", \"K\", \"Lat\", \"Lon\"]\n",
    "    \n",
    "        # Convert columns to numeric where possible\n",
    "        data_values = data_values.apply(pd.to_numeric, errors='coerce')\n",
    "    \n",
    "        # Set Frequency as index\n",
    "        data_values.set_index(\"Frequency\", inplace=True)\n",
    "    \n",
    "        # Convert DataFrame to xarray.Dataset\n",
    "        data_xr = xr.Dataset.from_dataframe(data_values)\n",
    "    \n",
    "        # Add coordinate for time based on extracted date values\n",
    "        data_xr = data_xr.assign_coords(time=pd.to_datetime(date.iloc[i, 1]))\n",
    "\n",
    "        # Add metadata for each variable\n",
    "        data_xr[\"SmaxXpsd\"].attrs = {\"units\": \"unit1\", \"long_name\": \"Spectral Max Power Density\"}\n",
    "        data_xr[\"dir_angle\"].attrs = {\"units\": \"degrees\", \"long_name\": \"Direction Angle\"}\n",
    "        data_xr[\"spr\"].attrs = {\"units\": \"degrees\", \"long_name\": \"Spread\"}\n",
    "        data_xr[\"skw\"].attrs = {\"units\": \"unit2\", \"long_name\": \"Skewness\"}\n",
    "        data_xr[\"kurt\"].attrs = {\"units\": \"unit3\", \"long_name\": \"Kurtosis\"}\n",
    "        data_xr[\"m2\"].attrs = {\"units\": \"m^2\", \"long_name\": \"Moment Order 2\"}\n",
    "        data_xr[\"n2\"].attrs = {\"units\": \"n_unit\", \"long_name\": \"Some Variable N2\"}\n",
    "        data_xr[\"K\"].attrs = {\"units\": \"kelvin\", \"long_name\": \"Constant K\"}\n",
    "        data_xr[\"Lat\"].attrs = {\"units\": \"degrees_north\", \"long_name\": \"Latitude\"}\n",
    "        data_xr[\"Lon\"].attrs = {\"units\": \"degrees_east\", \"long_name\": \"Longitude\"}\n",
    "    \n",
    "        # Append the dataset with metadata to the list\n",
    "        datasets.append(data_xr)\n",
    "\n",
    "    # Concatenate all datasets along the \"time\" dimension\n",
    "    combined_data_xr = xr.concat(datasets, dim=\"time\")\n",
    "\n",
    "    # Add global attributes for dataset metadata\n",
    "    combined_data_xr.attrs = {\n",
    "        \"title\": \"Spectral Data Analysis\",\n",
    "        \"description\": \"Spectral data including frequency-based metrics with time stamps\",\n",
    "        \"units_note\": \"Units and descriptions for each variable can be found in variable attributes\",\n",
    "        \"Any suggestions\":\"email me: anooptr43@gmail.com\"\n",
    "    }\n",
    "\n",
    "    output_filename = spt.replace(\".txt\", \".nc\")\n",
    "    combined_data_xr.to_netcdf(output_filename)\n",
    "print()\n",
    "print(\"Processing of all files completed\")"
   ]
  },
  {
   "cell_type": "code",
   "execution_count": 12,
   "id": "5db96a09-1d6d-4a0b-b2ec-ccbb189702eb",
   "metadata": {},
   "outputs": [
    {
     "name": "stdout",
     "output_type": "stream",
     "text": [
      "['2010-09-01T00:28:00.000000000' '2010-09-01T00:58:00.000000000'\n",
      " '2010-09-01T01:28:00.000000000' ... '2010-09-30T22:58:00.000000000'\n",
      " '2010-09-30T23:28:00.000000000' '2010-09-30T23:58:00.000000000']\n"
     ]
    }
   ],
   "source": [
    "import xarray as xr\n",
    "data=xr.open_dataset(\"Vizag_000003_S09-2010_SPT.nc\")\n",
    "SmaxXpsd=data.SmaxXpsd\n",
    "time=data.time.values\n",
    "freq=data.Frequency\n",
    "print(time)"
   ]
  }
 ],
 "metadata": {
  "kernelspec": {
   "display_name": "Python 3 (ipykernel)",
   "language": "python",
   "name": "python3"
  },
  "language_info": {
   "codemirror_mode": {
    "name": "ipython",
    "version": 3
   },
   "file_extension": ".py",
   "mimetype": "text/x-python",
   "name": "python",
   "nbconvert_exporter": "python",
   "pygments_lexer": "ipython3",
   "version": "3.12.2"
  }
 },
 "nbformat": 4,
 "nbformat_minor": 5
}
